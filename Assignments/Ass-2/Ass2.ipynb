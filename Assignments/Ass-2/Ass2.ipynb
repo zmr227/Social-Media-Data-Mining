{
 "cells": [
  {
   "cell_type": "code",
   "execution_count": 1,
   "metadata": {},
   "outputs": [],
   "source": [
    "import twitter"
   ]
  },
  {
   "cell_type": "code",
   "execution_count": 2,
   "metadata": {
    "scrolled": true
   },
   "outputs": [
    {
     "name": "stdout",
     "output_type": "stream",
     "text": [
      "<twitter.api.Twitter object at 0x105f8ea58>\n"
     ]
    }
   ],
   "source": [
    "def oauth_login():\n",
    "    # XXX: Go to http://twitter.com/apps/new to create an app and get values\n",
    "    # for these credentials that you'll need to provide in place of these\n",
    "    # empty string values that are defined as placeholders.\n",
    "    # See https://developer.twitter.com/en/docs/basics/authentication/overview/oauth\n",
    "    # for more information on Twitter's OAuth implementation.\n",
    "    \n",
    "    CONSUMER_KEY = 'OBxRwRFiGNfaWcQuhPMClolHb'\n",
    "    CONSUMER_SECRET = '36udcF8jGmaOeNy1zNV0tcPepm9ehXBKCbZyRmHFKTPiB12Dqo'\n",
    "    OAUTH_TOKEN = '1087488903270072321-LfBjp3yuvFq55FxKWzNoD4FkU85e6K'\n",
    "    OAUTH_TOKEN_SECRET = 'u7kCfRD1vVon2YNRDhhJpAPCHmACH92SN6oQ2YEHFNUF7'\n",
    "    \n",
    "    auth = twitter.oauth.OAuth(OAUTH_TOKEN, OAUTH_TOKEN_SECRET,\n",
    "                               CONSUMER_KEY, CONSUMER_SECRET)\n",
    "    \n",
    "    twitter_api = twitter.Twitter(auth=auth)\n",
    "    return twitter_api\n",
    "\n",
    "# Sample usage\n",
    "twitter_api = oauth_login()    \n",
    "screen_name = 'edmundyu1001'\n",
    "\n",
    "# Nothing to see by displaying twitter_api except that it's now a\n",
    "# defined variable\n",
    "\n",
    "print(twitter_api)\n"
   ]
  },
  {
   "cell_type": "code",
   "execution_count": 6,
   "metadata": {},
   "outputs": [],
   "source": [
    "\n",
    "import sys\n",
    "import time\n",
    "from urllib.error import URLError\n",
    "from http.client import BadStatusLine\n",
    "import json\n",
    "\n",
    "def make_twitter_request(twitter_api_func, max_errors=10, *args, **kw): \n",
    "    \n",
    "    # A nested helper function that handles common HTTPErrors. Return an updated\n",
    "    # value for wait_period if the problem is a 500 level error. Block until the\n",
    "    # rate limit is reset if it's a rate limiting issue (429 error). Returns None\n",
    "    # for 401 and 404 errors, which requires special handling by the caller.\n",
    "    def handle_twitter_http_error(e, wait_period=2, sleep_when_rate_limited=True):\n",
    "    \n",
    "        if wait_period > 3600: # Seconds\n",
    "            print('Too many retries. Quitting.', file=sys.stderr)\n",
    "            raise e\n",
    "    \n",
    "        # See https://developer.twitter.com/en/docs/basics/response-codes\n",
    "        # for common codes\n",
    "    \n",
    "        if e.e.code == 401:\n",
    "            print('Encountered 401 Error (Not Authorized)', file=sys.stderr)\n",
    "            return None\n",
    "        elif e.e.code == 404:\n",
    "            print('Encountered 404 Error (Not Found)', file=sys.stderr)\n",
    "            return None\n",
    "        elif e.e.code == 429: \n",
    "            print('Encountered 429 Error (Rate Limit Exceeded)', file=sys.stderr)\n",
    "            if sleep_when_rate_limited:\n",
    "                print(\"Retrying in 15 minutes...ZzZ...\", file=sys.stderr)\n",
    "                sys.stderr.flush()\n",
    "                time.sleep(60*15 + 5)\n",
    "                print('...ZzZ...Awake now and trying again.', file=sys.stderr)\n",
    "                return 2\n",
    "            else:\n",
    "                raise e # Caller must handle the rate limiting issue\n",
    "        elif e.e.code in (500, 502, 503, 504):\n",
    "            print('Encountered {0} Error. Retrying in {1} seconds'                  .format(e.e.code, wait_period), file=sys.stderr)\n",
    "            time.sleep(wait_period)\n",
    "            wait_period *= 1.5\n",
    "            return wait_period\n",
    "        else:\n",
    "            raise e\n",
    "\n",
    "    # End of nested helper function\n",
    "    \n",
    "    wait_period = 2 \n",
    "    error_count = 0 \n",
    "\n",
    "    while True:\n",
    "        try:\n",
    "            return twitter_api_func(*args, **kw)\n",
    "        except twitter.api.TwitterHTTPError as e:\n",
    "            error_count = 0 \n",
    "            wait_period = handle_twitter_http_error(e, wait_period)\n",
    "            if wait_period is None:\n",
    "                return\n",
    "        except URLError as e:\n",
    "            error_count += 1\n",
    "            time.sleep(wait_period)\n",
    "            wait_period *= 1.5\n",
    "            print(\"URLError encountered. Continuing.\", file=sys.stderr)\n",
    "            if error_count > max_errors:\n",
    "                print(\"Too many consecutive errors...bailing out.\", file=sys.stderr)\n",
    "                raise\n",
    "        except BadStatusLine as e:\n",
    "            error_count += 1\n",
    "            time.sleep(wait_period)\n",
    "            wait_period *= 1.5\n",
    "            print(\"BadStatusLine encountered. Continuing.\", file=sys.stderr)\n",
    "            if error_count > max_errors:\n",
    "                print(\"Too many consecutive errors...bailing out.\", file=sys.stderr)\n",
    "                raise\n"
   ]
  },
  {
   "cell_type": "code",
   "execution_count": 7,
   "metadata": {
    "scrolled": true
   },
   "outputs": [
    {
     "name": "stderr",
     "output_type": "stream",
     "text": [
      "Fetched 127 total friends ids for edmundyu1001\n"
     ]
    },
    {
     "name": "stdout",
     "output_type": "stream",
     "text": [
      "[1344951, 954066971892600833, 954190672650752000, 768231590187134976, 3832106173, 724099177177718784, 866321645002162177, 76966092, 2338658462, 1933042237]\n",
      "[3116713424, 120031673, 768231590187134976, 954190672650752000, 76966092, 2338658462, 1933042237, 2749167177, 14645160, 743856512]\n"
     ]
    },
    {
     "name": "stderr",
     "output_type": "stream",
     "text": [
      "Fetched 70 total followers ids for edmundyu1001\n"
     ]
    }
   ],
   "source": [
    "from functools import partial\n",
    "from sys import maxsize as maxint\n",
    "\n",
    "def get_friends_followers_ids(twitter_api, screen_name=None, user_id=None,\n",
    "                              friends_limit=maxint, followers_limit=maxint):\n",
    "    \n",
    "    # Must have either screen_name or user_id (logical xor)\n",
    "    assert (screen_name != None) != (user_id != None),     \"Must have screen_name or user_id, but not both\"\n",
    "    \n",
    "    # See http://bit.ly/2GcjKJP and http://bit.ly/2rFz90N for details\n",
    "    # on API parameters\n",
    "    \n",
    "    get_friends_ids = partial(make_twitter_request, twitter_api.friends.ids, \n",
    "                              count=5000)\n",
    "    get_followers_ids = partial(make_twitter_request, twitter_api.followers.ids, \n",
    "                                count=5000)\n",
    "\n",
    "    friends_ids, followers_ids = [], []\n",
    "    \n",
    "    for twitter_api_func, limit, ids, label in [\n",
    "                    [get_friends_ids, friends_limit, friends_ids, \"friends\"], \n",
    "                    [get_followers_ids, followers_limit, followers_ids, \"followers\"]\n",
    "                ]:\n",
    "        \n",
    "        if limit == 0: continue\n",
    "        \n",
    "        cursor = -1\n",
    "        while cursor != 0:\n",
    "        \n",
    "            # Use make_twitter_request via the partially bound callable...\n",
    "            if screen_name: \n",
    "                response = twitter_api_func(screen_name=screen_name, cursor=cursor)\n",
    "            else: # user_id\n",
    "                response = twitter_api_func(user_id=user_id, cursor=cursor)\n",
    "\n",
    "            if response is not None:\n",
    "                ids += response['ids']\n",
    "                cursor = response['next_cursor']\n",
    "        \n",
    "            print('Fetched {0} total {1} ids for {2}'.format(len(ids), label, (user_id or screen_name)),file=sys.stderr)\n",
    "        \n",
    "            # XXX: You may want to store data during each iteration to provide an \n",
    "            # an additional layer of protection from exceptional circumstances\n",
    "        \n",
    "            if len(ids) >= limit or response is None:\n",
    "                break\n",
    "\n",
    "    # Do something useful with the IDs, like store them to disk...\n",
    "    return friends_ids[:friends_limit], followers_ids[:followers_limit]\n",
    "\n",
    "# Sample usage\n",
    "\n",
    "#twitter_api = oauth_login()\n",
    "\n",
    "friends_ids, followers_ids = get_friends_followers_ids(twitter_api, \n",
    "                                                       screen_name=\"edmundyu1001\", \n",
    "                                                       friends_limit=10, \n",
    "                                                       followers_limit=10)\n",
    "\n",
    "print(friends_ids)\n",
    "print(followers_ids)\n"
   ]
  },
  {
   "cell_type": "code",
   "execution_count": 8,
   "metadata": {},
   "outputs": [
    {
     "name": "stdout",
     "output_type": "stream",
     "text": [
      "[768231590187134976, 954190672650752000, 743856512, 1960131073, 2821436679, 3240878475, 553075088, 1354838418, 144875027, 34376087, 2338658462, 2902727583, 590208162, 14476451, 88282022, 14645160, 274208425, 3959267115, 363160107, 2836876335, 609187760, 5548212, 276569910, 54113975, 2774659128, 78419512, 3020481083, 3832106173, 1933042237, 24733117, 36032320, 17596353, 243077314, 2749167177, 68792137, 130992073, 76966092, 76376525, 104542286, 412174671, 5514192, 370978131, 1877474773, 17881816, 1877180376, 1529638232, 86310874, 2342319324, 568166877, 31407357, 2802888287, 3130962657, 817545704, 2383040108, 1964709229, 3249140718, 577403888, 17129715, 325748468, 2950692597, 719423990, 113435127, 2843793653, 96032763, 430492796, 16807677]\n"
     ]
    }
   ],
   "source": [
    "def get_reciprocal_friends(twitter_api, screen_name):\n",
    "    friends_response = make_twitter_request(twitter_api.friends.ids, screen_name=screen_name, count = 5000)\n",
    "    followers_response = make_twitter_request(twitter_api.followers.ids, screen_name=screen_name, count = 5000)\n",
    "    friends, followers = [], []\n",
    "    if friends_response: friends = friends_response[\"ids\"]\n",
    "    if followers_response: followers = followers_response[\"ids\"]\n",
    "\n",
    "    reciprocal_friends = set(friends) & set(followers)\n",
    "    res = list(reciprocal_friends)\n",
    "    return res\n",
    "\n",
    "reciprocal_friends = get_reciprocal_friends(twitter_api, screen_name)\n",
    "print(reciprocal_friends)"
   ]
  },
  {
   "cell_type": "code",
   "execution_count": 9,
   "metadata": {},
   "outputs": [],
   "source": [
    "def get_user_profile(twitter_api, screen_names=None, user_ids=None):\n",
    "   \n",
    "    # Must have either screen_name or user_id (logical xor)\n",
    "    assert (screen_names != None) != (user_ids != None),     \"Must have screen_names or user_ids, but not both\"\n",
    "    \n",
    "    items_to_info = {}\n",
    "\n",
    "    items = screen_names or user_ids\n",
    "    \n",
    "    while len(items) > 0:\n",
    "\n",
    "        # Process 100 items at a time per the API specifications for /users/lookup.\n",
    "        # See http://bit.ly/2Gcjfzr for details.\n",
    "        \n",
    "        items_str = ','.join([str(item) for item in items[:100]])\n",
    "        items = items[100:]\n",
    "\n",
    "        if screen_names:\n",
    "            response = make_twitter_request(twitter_api.users.lookup, \n",
    "                                            screen_name=items_str)\n",
    "        else: # user_ids\n",
    "            response = make_twitter_request(twitter_api.users.lookup, \n",
    "                                            user_id=items_str)\n",
    "    \n",
    "        for user_info in response:\n",
    "            if screen_names:\n",
    "                items_to_info[user_info['screen_name']] = user_info\n",
    "            else: # user_ids\n",
    "                items_to_info[user_info['id']] = user_info\n",
    "\n",
    "    return items_to_info"
   ]
  },
  {
   "cell_type": "code",
   "execution_count": 10,
   "metadata": {
    "scrolled": true
   },
   "outputs": [
    {
     "data": {
      "text/plain": [
       "[17881816, 1933042237, 14645160, 76966092, 5514192]"
      ]
     },
     "execution_count": 10,
     "metadata": {},
     "output_type": "execute_result"
    }
   ],
   "source": [
    "def popular_users(users_list, num):\n",
    "    if num > len(users_list): \n",
    "        return users_list\n",
    "    # get all reciprocal_friends' profiles\n",
    "    cur_response = get_user_profile(twitter_api, user_ids=users_list)\n",
    "    # sort by followers_count\n",
    "    sortedList = sorted(cur_response.items(), key=lambda k: k[1]['followers_count'],reverse=True)\n",
    "    # return the first num elements\n",
    "    return [i[0] for i in sortedList[:num]]\n",
    "\n",
    "#lists = list(reciprocal_friends)\n",
    "popular_users(reciprocal_friends, 5)"
   ]
  },
  {
   "cell_type": "code",
   "execution_count": 11,
   "metadata": {},
   "outputs": [
    {
     "name": "stdout",
     "output_type": "stream",
     "text": [
      "[17881816, 1933042237, 14645160, 76966092, 5514192]\n"
     ]
    }
   ],
   "source": [
    "friends_list = list(reciprocal_friends)\n",
    "ids = popular_users(friends_list, 5)\n",
    "print(ids)"
   ]
  },
  {
   "cell_type": "code",
   "execution_count": 31,
   "metadata": {},
   "outputs": [],
   "source": [
    "def crawl_followers_friends(twitter_api, screen_name, max_depth):\n",
    "    seed_id = str(twitter_api.users.show(screen_name=screen_name)['id'])\n",
    "    friends_list = get_reciprocal_friends(twitter_api, screen_name)\n",
    "    next_reciprocal_queue = popular_users(friends_list, 5)\n",
    "    res = [(seed_id, i) for i in next_reciprocal_queue]\n",
    "    \n",
    "    depth = 1\n",
    "    while depth < max_depth:\n",
    "        depth += 1\n",
    "        (reciprocal_queue, next_reciprocal_queue) = (next_reciprocal_queue, [])\n",
    "        names = make_twitter_request(twitter_api.users.lookup, \n",
    "                                            user_id=reciprocal_queue)\n",
    "        for name in names:\n",
    "            #seed_name = str(twitter_api.users.show(user_id=friend_id)['screen_name'])\n",
    "            cur_list = get_reciprocal_friends(twitter_api, name)\n",
    "            new_friends = popular_users(cur_list, 5)\n",
    "            next_reciprocal_queue += new_friends\n",
    "            \n",
    "            res += [(friend_id, i) for i in new_friends]\n",
    "        \n",
    "    print(\"{} edges included\".format(len(res)))\n",
    "    return res"
   ]
  },
  {
   "cell_type": "code",
   "execution_count": 29,
   "metadata": {},
   "outputs": [],
   "source": [
    "def crawl_followers_friends2(twitter_api, screen_name):\n",
    "    response = make_twitter_request(twitter_api.followers.ids, screen_name=screen_name, count=5) \n",
    "    ids = next_queue = response[\"ids\"]\n",
    "    level = 1\n",
    "    max_level = 3\n",
    "    while level < max_level: \n",
    "        level += 1\n",
    "        (queue, next_queue) = (next_queue, []) \n",
    "        for id in queue:\n",
    "            response = make_twitter_request(twitter_api.followers.ids, user_id=id, count=5)\n",
    "            if response: next_queue += response[\"ids\"] \n",
    "        ids += next_queue\n",
    "    return ids"
   ]
  },
  {
   "cell_type": "code",
   "execution_count": null,
   "metadata": {
    "scrolled": true
   },
   "outputs": [
    {
     "name": "stderr",
     "output_type": "stream",
     "text": [
      "Encountered 429 Error (Rate Limit Exceeded)\n",
      "Retrying in 15 minutes...ZzZ...\n"
     ]
    }
   ],
   "source": [
    "edges = crawl_followers_friends(twitter_api,screen_name,2)\n",
    "print(edges)"
   ]
  },
  {
   "cell_type": "code",
   "execution_count": 17,
   "metadata": {},
   "outputs": [],
   "source": [
    "import networkx as nx\n",
    "import matplotlib.pyplot as plt\n",
    "G = nx.Graph()"
   ]
  },
  {
   "cell_type": "code",
   "execution_count": 21,
   "metadata": {},
   "outputs": [
    {
     "data": {
      "image/png": "[encoded data removed]",
      "text/plain": [
       "<Figure size 432x288 with 1 Axes>"
      ]
     },
     "metadata": {},
     "output_type": "display_data"
    }
   ],
   "source": [
    "G.add_edges_from(edges,color='red')\n",
    "nx.draw(G, with_labels=True)\n",
    "plt.show()"
   ]
  },
  {
   "cell_type": "code",
   "execution_count": 26,
   "metadata": {},
   "outputs": [
    {
     "name": "stderr",
     "output_type": "stream",
     "text": [
      "Encountered 401 Error (Not Authorized)\n"
     ]
    },
    {
     "data": {
      "text/plain": [
       "[3116713424,\n",
       " 120031673,\n",
       " 1580157296,\n",
       " 56952328,\n",
       " 562376481,\n",
       " 3116713424,\n",
       " 340929468,\n",
       " 2352792564]"
      ]
     },
     "execution_count": 26,
     "metadata": {},
     "output_type": "execute_result"
    }
   ],
   "source": [
    "def test(twitter_api, screen_name):\n",
    "    response = make_twitter_request(twitter_api.followers.ids, screen_name=screen_name, count=2) \n",
    "    ids = next_queue = response[\"ids\"]\n",
    "    level = 1\n",
    "    max_level = 3\n",
    "    while level < max_level: \n",
    "        level += 1\n",
    "        (queue, next_queue) = (next_queue, []) \n",
    "        for id in queue:\n",
    "            response = make_twitter_request(twitter_api.followers.ids, user_id=id, count = 2)\n",
    "            if response: next_queue += response[\"ids\"] \n",
    "        ids += next_queue\n",
    "    return ids\n",
    "test(twitter_api, screen_name)"
   ]
  },
  {
   "cell_type": "code",
   "execution_count": null,
   "metadata": {},
   "outputs": [],
   "source": []
  }
 ],
 "metadata": {
  "kernelspec": {
   "display_name": "Python 3",
   "language": "python",
   "name": "python3"
  },
  "language_info": {
   "codemirror_mode": {
    "name": "ipython",
    "version": 3
   },
   "file_extension": ".py",
   "mimetype": "text/x-python",
   "name": "python",
   "nbconvert_exporter": "python",
   "pygments_lexer": "ipython3",
   "version": "3.6.5"
  }
 },
 "nbformat": 4,
 "nbformat_minor": 2
}
