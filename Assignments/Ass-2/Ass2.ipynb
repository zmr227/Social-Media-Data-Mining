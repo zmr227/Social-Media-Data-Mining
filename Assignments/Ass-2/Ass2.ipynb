{
 "cells": [
  {
   "cell_type": "code",
   "execution_count": 1,
   "metadata": {},
   "outputs": [],
   "source": [
    "import twitter"
   ]
  },
  {
   "cell_type": "code",
   "execution_count": 2,
   "metadata": {
    "scrolled": true
   },
   "outputs": [
    {
     "name": "stdout",
     "output_type": "stream",
     "text": [
      "<twitter.api.Twitter object at 0x1053a4940>\n"
     ]
    }
   ],
   "source": [
    "def oauth_login():\n",
    "    # XXX: Go to http://twitter.com/apps/new to create an app and get values\n",
    "    # for these credentials that you'll need to provide in place of these\n",
    "    # empty string values that are defined as placeholders.\n",
    "    # See https://developer.twitter.com/en/docs/basics/authentication/overview/oauth\n",
    "    # for more information on Twitter's OAuth implementation.\n",
    "    \n",
    "    CONSUMER_KEY = 'OBxRwRFiGNfaWcQuhPMClolHb'\n",
    "    CONSUMER_SECRET = '36udcF8jGmaOeNy1zNV0tcPepm9ehXBKCbZyRmHFKTPiB12Dqo'\n",
    "    OAUTH_TOKEN = '1087488903270072321-LfBjp3yuvFq55FxKWzNoD4FkU85e6K'\n",
    "    OAUTH_TOKEN_SECRET = 'u7kCfRD1vVon2YNRDhhJpAPCHmACH92SN6oQ2YEHFNUF7'\n",
    "    \n",
    "    auth = twitter.oauth.OAuth(OAUTH_TOKEN, OAUTH_TOKEN_SECRET,\n",
    "                               CONSUMER_KEY, CONSUMER_SECRET)\n",
    "    \n",
    "    twitter_api = twitter.Twitter(auth=auth)\n",
    "    return twitter_api\n",
    "\n",
    "# Sample usage\n",
    "twitter_api = oauth_login()    \n",
    "screen_name = 'edmundyu1001'\n",
    "\n",
    "# Nothing to see by displaying twitter_api except that it's now a\n",
    "# defined variable\n",
    "\n",
    "print(twitter_api)\n"
   ]
  },
  {
   "cell_type": "code",
   "execution_count": 3,
   "metadata": {},
   "outputs": [],
   "source": [
    "\n",
    "import sys\n",
    "import time\n",
    "from urllib.error import URLError\n",
    "from http.client import BadStatusLine\n",
    "import json\n",
    "\n",
    "def make_twitter_request(twitter_api_func, max_errors=10, *args, **kw): \n",
    "    \n",
    "    # A nested helper function that handles common HTTPErrors. Return an updated\n",
    "    # value for wait_period if the problem is a 500 level error. Block until the\n",
    "    # rate limit is reset if it's a rate limiting issue (429 error). Returns None\n",
    "    # for 401 and 404 errors, which requires special handling by the caller.\n",
    "    def handle_twitter_http_error(e, wait_period=2, sleep_when_rate_limited=True):\n",
    "    \n",
    "        if wait_period > 3600: # Seconds\n",
    "            print('Too many retries. Quitting.', file=sys.stderr)\n",
    "            raise e\n",
    "    \n",
    "        # See https://developer.twitter.com/en/docs/basics/response-codes\n",
    "        # for common codes\n",
    "    \n",
    "        if e.e.code == 401:\n",
    "            print('Encountered 401 Error (Not Authorized)', file=sys.stderr)\n",
    "            return None\n",
    "        elif e.e.code == 404:\n",
    "            print('Encountered 404 Error (Not Found)', file=sys.stderr)\n",
    "            return None\n",
    "        elif e.e.code == 429: \n",
    "            print('Encountered 429 Error (Rate Limit Exceeded)', file=sys.stderr)\n",
    "            if sleep_when_rate_limited:\n",
    "                print(\"Retrying in 15 minutes...ZzZ...\", file=sys.stderr)\n",
    "                sys.stderr.flush()\n",
    "                time.sleep(60*15 + 5)\n",
    "                print('...ZzZ...Awake now and trying again.', file=sys.stderr)\n",
    "                return 2\n",
    "            else:\n",
    "                raise e # Caller must handle the rate limiting issue\n",
    "        elif e.e.code in (500, 502, 503, 504):\n",
    "            print('Encountered {0} Error. Retrying in {1} seconds'                  .format(e.e.code, wait_period), file=sys.stderr)\n",
    "            time.sleep(wait_period)\n",
    "            wait_period *= 1.5\n",
    "            return wait_period\n",
    "        else:\n",
    "            raise e\n",
    "\n",
    "    # End of nested helper function\n",
    "    \n",
    "    wait_period = 2 \n",
    "    error_count = 0 \n",
    "\n",
    "    while True:\n",
    "        try:\n",
    "            return twitter_api_func(*args, **kw)\n",
    "        except twitter.api.TwitterHTTPError as e:\n",
    "            error_count = 0 \n",
    "            wait_period = handle_twitter_http_error(e, wait_period)\n",
    "            if wait_period is None:\n",
    "                return\n",
    "        except URLError as e:\n",
    "            error_count += 1\n",
    "            time.sleep(wait_period)\n",
    "            wait_period *= 1.5\n",
    "            print(\"URLError encountered. Continuing.\", file=sys.stderr)\n",
    "            if error_count > max_errors:\n",
    "                print(\"Too many consecutive errors...bailing out.\", file=sys.stderr)\n",
    "                raise\n",
    "        except BadStatusLine as e:\n",
    "            error_count += 1\n",
    "            time.sleep(wait_period)\n",
    "            wait_period *= 1.5\n",
    "            print(\"BadStatusLine encountered. Continuing.\", file=sys.stderr)\n",
    "            if error_count > max_errors:\n",
    "                print(\"Too many consecutive errors...bailing out.\", file=sys.stderr)\n",
    "                raise\n"
   ]
  },
  {
   "cell_type": "code",
   "execution_count": 5,
   "metadata": {
    "scrolled": true
   },
   "outputs": [
    {
     "name": "stderr",
     "output_type": "stream",
     "text": [
      "Fetched 127 total friends ids for edmundyu1001\n"
     ]
    },
    {
     "name": "stdout",
     "output_type": "stream",
     "text": [
      "[1344951, 954066971892600833, 954190672650752000, 768231590187134976, 3832106173, 724099177177718784, 866321645002162177, 76966092, 2338658462, 1933042237]\n",
      "[3116713424, 120031673, 768231590187134976, 954190672650752000, 76966092, 2338658462, 1933042237, 2749167177, 14645160, 743856512]\n"
     ]
    },
    {
     "name": "stderr",
     "output_type": "stream",
     "text": [
      "Fetched 70 total followers ids for edmundyu1001\n"
     ]
    }
   ],
   "source": [
    "from functools import partial\n",
    "from sys import maxsize as maxint\n",
    "\n",
    "def get_friends_followers_ids(twitter_api, screen_name=None, user_id=None,\n",
    "                              friends_limit=maxint, followers_limit=maxint):\n",
    "    \n",
    "    # Must have either screen_name or user_id (logical xor)\n",
    "    assert (screen_name != None) != (user_id != None),     \"Must have screen_name or user_id, but not both\"\n",
    "    \n",
    "    # See http://bit.ly/2GcjKJP and http://bit.ly/2rFz90N for details\n",
    "    # on API parameters\n",
    "    \n",
    "    get_friends_ids = partial(make_twitter_request, twitter_api.friends.ids, \n",
    "                              count=5000)\n",
    "    get_followers_ids = partial(make_twitter_request, twitter_api.followers.ids, \n",
    "                                count=5000)\n",
    "\n",
    "    friends_ids, followers_ids = [], []\n",
    "    \n",
    "    for twitter_api_func, limit, ids, label in [\n",
    "                    [get_friends_ids, friends_limit, friends_ids, \"friends\"], \n",
    "                    [get_followers_ids, followers_limit, followers_ids, \"followers\"]\n",
    "                ]:\n",
    "        \n",
    "        if limit == 0: continue\n",
    "        \n",
    "        cursor = -1\n",
    "        while cursor != 0:\n",
    "        \n",
    "            # Use make_twitter_request via the partially bound callable...\n",
    "            if screen_name: \n",
    "                response = twitter_api_func(screen_name=screen_name, cursor=cursor)\n",
    "            else: # user_id\n",
    "                response = twitter_api_func(user_id=user_id, cursor=cursor)\n",
    "\n",
    "            if response is not None:\n",
    "                ids += response['ids']\n",
    "                cursor = response['next_cursor']\n",
    "        \n",
    "            print('Fetched {0} total {1} ids for {2}'.format(len(ids), label, (user_id or screen_name)),file=sys.stderr)\n",
    "        \n",
    "            # XXX: You may want to store data during each iteration to provide an \n",
    "            # an additional layer of protection from exceptional circumstances\n",
    "        \n",
    "            if len(ids) >= limit or response is None:\n",
    "                break\n",
    "\n",
    "    # Do something useful with the IDs, like store them to disk...\n",
    "    return friends_ids[:friends_limit], followers_ids[:followers_limit]\n",
    "\n",
    "# Sample usage\n",
    "\n",
    "#twitter_api = oauth_login()\n",
    "\n",
    "friends_ids, followers_ids = get_friends_followers_ids(twitter_api, \n",
    "                                                       screen_name=\"edmundyu1001\", \n",
    "                                                       friends_limit=10, \n",
    "                                                       followers_limit=10)\n",
    "\n",
    "print(friends_ids)\n",
    "print(followers_ids)\n"
   ]
  },
  {
   "cell_type": "code",
   "execution_count": 7,
   "metadata": {},
   "outputs": [
    {
     "name": "stdout",
     "output_type": "stream",
     "text": [
      "{768231590187134976, 954190672650752000, 743856512, 1960131073, 2821436679, 3240878475, 553075088, 1354838418, 144875027, 34376087, 2338658462, 2902727583, 590208162, 14476451, 88282022, 14645160, 274208425, 3959267115, 363160107, 2836876335, 609187760, 5548212, 276569910, 54113975, 2774659128, 78419512, 3020481083, 3832106173, 1933042237, 24733117, 36032320, 17596353, 243077314, 2749167177, 68792137, 130992073, 76966092, 76376525, 104542286, 412174671, 5514192, 370978131, 1877474773, 17881816, 1877180376, 1529638232, 86310874, 2342319324, 568166877, 31407357, 2802888287, 3130962657, 817545704, 2383040108, 1964709229, 3249140718, 577403888, 17129715, 325748468, 2950692597, 719423990, 113435127, 2843793653, 96032763, 430492796, 16807677}\n"
     ]
    }
   ],
   "source": [
    "def get_reciprocal_friends(twitter_api, screen_name):\n",
    "    friends_response = make_twitter_request(twitter_api.friends.ids, screen_name=screen_name, count = 5000)\n",
    "    followers_response = make_twitter_request(twitter_api.followers.ids, screen_name=screen_name, count = 5000)\n",
    "\n",
    "    friends = friends_response[\"ids\"]\n",
    "    followers = followers_response[\"ids\"]\n",
    "\n",
    "    reciprocal_friends = set(friends) & set(followers)\n",
    "    \n",
    "    return reciprocal_friends\n",
    "\n",
    "reciprocal_friends = get_reciprocal_friends(twitter_api, screen_name)\n",
    "print(reciprocal_friends)"
   ]
  },
  {
   "cell_type": "code",
   "execution_count": 8,
   "metadata": {},
   "outputs": [],
   "source": [
    "def get_user_profile(twitter_api, screen_names=None, user_ids=None):\n",
    "   \n",
    "    # Must have either screen_name or user_id (logical xor)\n",
    "    assert (screen_names != None) != (user_ids != None),     \"Must have screen_names or user_ids, but not both\"\n",
    "    \n",
    "    items_to_info = {}\n",
    "\n",
    "    items = screen_names or user_ids\n",
    "    \n",
    "    while len(items) > 0:\n",
    "\n",
    "        # Process 100 items at a time per the API specifications for /users/lookup.\n",
    "        # See http://bit.ly/2Gcjfzr for details.\n",
    "        \n",
    "        items_str = ','.join([str(item) for item in items[:100]])\n",
    "        items = items[100:]\n",
    "\n",
    "        if screen_names:\n",
    "            response = make_twitter_request(twitter_api.users.lookup, \n",
    "                                            screen_name=items_str)\n",
    "        else: # user_ids\n",
    "            response = make_twitter_request(twitter_api.users.lookup, \n",
    "                                            user_id=items_str)\n",
    "    \n",
    "        for user_info in response:\n",
    "            if screen_names:\n",
    "                items_to_info[user_info['screen_name']] = user_info\n",
    "            else: # user_ids\n",
    "                items_to_info[user_info['id']] = user_info\n",
    "\n",
    "    return items_to_info"
   ]
  },
  {
   "cell_type": "code",
   "execution_count": 10,
   "metadata": {
    "scrolled": true
   },
   "outputs": [],
   "source": [
    "def popular_users(users_list, num):\n",
    "    if num > len(users_list): \n",
    "        return users_list\n",
    "    # get all reciprocal_friends' profiles\n",
    "    cur_response = get_user_profile(twitter_api, user_ids=users_list)\n",
    "    # sort by followers_count\n",
    "    sortedList = sorted(cur_response.items(), key=lambda k: k[1]['followers_count'],reverse=True)\n",
    "    # return the first num elements\n",
    "    return sortedList[:num] \n",
    "\n",
    "#lists = list(reciprocal_friends)\n",
    "#popular_users(lists, 5)"
   ]
  },
  {
   "cell_type": "code",
   "execution_count": 11,
   "metadata": {},
   "outputs": [
    {
     "name": "stdout",
     "output_type": "stream",
     "text": [
      "[(17881816, {'id': 17881816, 'id_str': '17881816', 'name': 'Brian Hazard', 'screen_name': 'colortheory', 'location': 'Huntington Beach, CA', 'description': 'Somehow I never outgrew the 80s 🎹🎤 Listen on Spotify at https://t.co/oH6hIuz8oV or Bandcamp at https://t.co/6BOM1dv7ZS #synthwave', 'url': 'https://t.co/fN4E60vI1p', 'entities': {'url': {'urls': [{'url': 'https://t.co/fN4E60vI1p', 'expanded_url': 'http://patreon.com/colortheory', 'display_url': 'patreon.com/colortheory', 'indices': [0, 23]}]}, 'description': {'urls': [{'url': 'https://t.co/oH6hIuz8oV', 'expanded_url': 'https://spoti.fi/2DYUiGH', 'display_url': 'spoti.fi/2DYUiGH', 'indices': [56, 79]}, {'url': 'https://t.co/6BOM1dv7ZS', 'expanded_url': 'http://colortheory.bandcamp.com', 'display_url': 'colortheory.bandcamp.com', 'indices': [95, 118]}]}}, 'protected': False, 'followers_count': 2522357, 'friends_count': 1653247, 'listed_count': 6682, 'created_at': 'Thu Dec 04 22:34:48 +0000 2008', 'favourites_count': 7114, 'utc_offset': None, 'time_zone': None, 'geo_enabled': False, 'verified': True, 'statuses_count': 2411, 'lang': 'en', 'status': {'created_at': 'Sat Feb 16 18:50:29 +0000 2019', 'id': 1096844281900224512, 'id_str': '1096844281900224512', 'text': 'Here\\'s a sneak peek of \"Feral\" https://t.co/auCPozjmND #synthwave #meow https://t.co/PMgYCIXD7h', 'truncated': False, 'entities': {'hashtags': [{'text': 'synthwave', 'indices': [55, 65]}, {'text': 'meow', 'indices': [66, 71]}], 'symbols': [], 'user_mentions': [], 'urls': [{'url': 'https://t.co/auCPozjmND', 'expanded_url': 'https://www.patreon.com/posts/feral-24633640', 'display_url': 'patreon.com/posts/feral-24…', 'indices': [31, 54]}], 'media': [{'id': 1096843936046276608, 'id_str': '1096843936046276608', 'indices': [72, 95], 'media_url': 'http://pbs.twimg.com/amplify_video_thumb/1096843936046276608/img/GMjfchpR1-STYmV3.jpg', 'media_url_https': 'https://pbs.twimg.com/amplify_video_thumb/1096843936046276608/img/GMjfchpR1-STYmV3.jpg', 'url': 'https://t.co/PMgYCIXD7h', 'display_url': 'pic.twitter.com/PMgYCIXD7h', 'expanded_url': 'https://twitter.com/colortheory/status/1096844281900224512/video/1', 'type': 'photo', 'sizes': {'thumb': {'w': 150, 'h': 150, 'resize': 'crop'}, 'medium': {'w': 1200, 'h': 675, 'resize': 'fit'}, 'small': {'w': 680, 'h': 383, 'resize': 'fit'}, 'large': {'w': 1280, 'h': 720, 'resize': 'fit'}}}]}, 'extended_entities': {'media': [{'id': 1096843936046276608, 'id_str': '1096843936046276608', 'indices': [72, 95], 'media_url': 'http://pbs.twimg.com/amplify_video_thumb/1096843936046276608/img/GMjfchpR1-STYmV3.jpg', 'media_url_https': 'https://pbs.twimg.com/amplify_video_thumb/1096843936046276608/img/GMjfchpR1-STYmV3.jpg', 'url': 'https://t.co/PMgYCIXD7h', 'display_url': 'pic.twitter.com/PMgYCIXD7h', 'expanded_url': 'https://twitter.com/colortheory/status/1096844281900224512/video/1', 'type': 'video', 'sizes': {'thumb': {'w': 150, 'h': 150, 'resize': 'crop'}, 'medium': {'w': 1200, 'h': 675, 'resize': 'fit'}, 'small': {'w': 680, 'h': 383, 'resize': 'fit'}, 'large': {'w': 1280, 'h': 720, 'resize': 'fit'}}, 'video_info': {'aspect_ratio': [16, 9], 'duration_millis': 29800, 'variants': [{'bitrate': 832000, 'content_type': 'video/mp4', 'url': 'https://video.twimg.com/amplify_video/1096843936046276608/vid/640x360/zvjsccSfiRnBjxq0.mp4?tag=9'}, {'bitrate': 288000, 'content_type': 'video/mp4', 'url': 'https://video.twimg.com/amplify_video/1096843936046276608/vid/320x180/F5Zd_i26w1-3Hs_p.mp4?tag=9'}, {'bitrate': 2176000, 'content_type': 'video/mp4', 'url': 'https://video.twimg.com/amplify_video/1096843936046276608/vid/1280x720/fV94NBvk4RTxw_Bm.mp4?tag=9'}, {'content_type': 'application/x-mpegURL', 'url': 'https://video.twimg.com/amplify_video/1096843936046276608/pl/8egWQg96h8xCjUgt.m3u8?tag=9'}]}, 'additional_media_info': {'title': '', 'description': '', 'call_to_actions': {'visit_site': {'url': 'https://www.patreon.com/posts/feral-24633640'}}, 'embeddable': True, 'monetizable': False}}]}, 'source': '<a href=\"https://ads.twitter.com\" rel=\"nofollow\">Twitter Ads</a>', 'in_reply_to_status_id': None, 'in_reply_to_status_id_str': None, 'in_reply_to_user_id': None, 'in_reply_to_user_id_str': None, 'in_reply_to_screen_name': None, 'geo': None, 'coordinates': None, 'place': None, 'contributors': None, 'is_quote_status': False, 'retweet_count': 7, 'favorite_count': 36, 'favorited': False, 'retweeted': False, 'possibly_sensitive': False, 'lang': 'en'}, 'contributors_enabled': False, 'is_translator': False, 'is_translation_enabled': False, 'profile_background_color': '000000', 'profile_background_image_url': 'http://abs.twimg.com/images/themes/theme1/bg.png', 'profile_background_image_url_https': 'https://abs.twimg.com/images/themes/theme1/bg.png', 'profile_background_tile': False, 'profile_image_url': 'http://pbs.twimg.com/profile_images/1038118437573165056/-wxhA_0E_normal.jpg', 'profile_image_url_https': 'https://pbs.twimg.com/profile_images/1038118437573165056/-wxhA_0E_normal.jpg', 'profile_banner_url': 'https://pbs.twimg.com/profile_banners/17881816/1538400275', 'profile_link_color': 'FF691F', 'profile_sidebar_border_color': '000000', 'profile_sidebar_fill_color': 'AED7FF', 'profile_text_color': '000000', 'profile_use_background_image': True, 'has_extended_profile': True, 'default_profile': False, 'default_profile_image': False, 'following': False, 'follow_request_sent': False, 'notifications': False, 'translator_type': 'none'}), (1933042237, {'id': 1933042237, 'id_str': '1933042237', 'name': 'Susan Bennett', 'screen_name': 'SiriouslySusan', 'location': 'Atlanta, GA', 'description': 'Susan Bennett, Voice Actor, Singer, Speaker, and the Original voice of Siri. Representation by VOX, Inc., Los Angeles, https://t.co/AbJyrEQMLa', 'url': 'https://t.co/8zmZ9ZZpQC', 'entities': {'url': {'urls': [{'url': 'https://t.co/8zmZ9ZZpQC', 'expanded_url': 'http://www.susancbennett.com/', 'display_url': 'susancbennett.com', 'indices': [0, 23]}]}, 'description': {'urls': [{'url': 'https://t.co/AbJyrEQMLa', 'expanded_url': 'http://Voxusa.net', 'display_url': 'Voxusa.net', 'indices': [119, 142]}]}}, 'protected': False, 'followers_count': 2127571, 'friends_count': 1894833, 'listed_count': 6421, 'created_at': 'Fri Oct 04 04:20:36 +0000 2013', 'favourites_count': 1811, 'utc_offset': None, 'time_zone': None, 'geo_enabled': True, 'verified': True, 'statuses_count': 1538, 'lang': 'en', 'status': {'created_at': 'Sat Feb 16 21:51:09 +0000 2019', 'id': 1096889748147310597, 'id_str': '1096889748147310597', 'text': 'RT @randallkjones: Listen today on https://t.co/sDs6IKVmg0: #SaraEvans #BobOrr #VickiGunvalson #RalphRolle \\nWeb: https://t.co/sDs6IKVmg0 \\ni…', 'truncated': False, 'entities': {'hashtags': [{'text': 'SaraEvans', 'indices': [60, 70]}, {'text': 'BobOrr', 'indices': [71, 78]}, {'text': 'VickiGunvalson', 'indices': [79, 94]}, {'text': 'RalphRolle', 'indices': [95, 106]}], 'symbols': [], 'user_mentions': [{'screen_name': 'randallkjones', 'name': 'RandallKennethJones', 'id': 284528494, 'id_str': '284528494', 'indices': [3, 17]}], 'urls': [{'url': 'https://t.co/sDs6IKVmg0', 'expanded_url': 'http://Jones.Show', 'display_url': 'Jones.Show', 'indices': [35, 58]}, {'url': 'https://t.co/sDs6IKVmg0', 'expanded_url': 'http://Jones.Show', 'display_url': 'Jones.Show', 'indices': [113, 136]}]}, 'source': '<a href=\"http://twitter.com\" rel=\"nofollow\">Twitter Web Client</a>', 'in_reply_to_status_id': None, 'in_reply_to_status_id_str': None, 'in_reply_to_user_id': None, 'in_reply_to_user_id_str': None, 'in_reply_to_screen_name': None, 'geo': None, 'coordinates': None, 'place': None, 'contributors': None, 'retweeted_status': {'created_at': 'Sat Feb 16 16:39:19 +0000 2019', 'id': 1096811272287473665, 'id_str': '1096811272287473665', 'text': 'Listen today on https://t.co/sDs6IKVmg0: #SaraEvans #BobOrr #VickiGunvalson #RalphRolle \\nWeb:… https://t.co/52Fjxhn27r', 'truncated': True, 'entities': {'hashtags': [{'text': 'SaraEvans', 'indices': [41, 51]}, {'text': 'BobOrr', 'indices': [52, 59]}, {'text': 'VickiGunvalson', 'indices': [60, 75]}, {'text': 'RalphRolle', 'indices': [76, 87]}], 'symbols': [], 'user_mentions': [], 'urls': [{'url': 'https://t.co/sDs6IKVmg0', 'expanded_url': 'http://Jones.Show', 'display_url': 'Jones.Show', 'indices': [16, 39]}, {'url': 'https://t.co/52Fjxhn27r', 'expanded_url': 'https://twitter.com/i/web/status/1096811272287473665', 'display_url': 'twitter.com/i/web/status/1…', 'indices': [95, 118]}]}, 'source': '<a href=\"http://twitter.com\" rel=\"nofollow\">Twitter Web Client</a>', 'in_reply_to_status_id': None, 'in_reply_to_status_id_str': None, 'in_reply_to_user_id': None, 'in_reply_to_user_id_str': None, 'in_reply_to_screen_name': None, 'geo': None, 'coordinates': None, 'place': None, 'contributors': None, 'is_quote_status': False, 'retweet_count': 5, 'favorite_count': 22, 'favorited': False, 'retweeted': False, 'possibly_sensitive': False, 'lang': 'en'}, 'is_quote_status': False, 'retweet_count': 5, 'favorite_count': 0, 'favorited': False, 'retweeted': False, 'possibly_sensitive': False, 'lang': 'en'}, 'contributors_enabled': False, 'is_translator': False, 'is_translation_enabled': False, 'profile_background_color': 'C0DEED', 'profile_background_image_url': 'http://abs.twimg.com/images/themes/theme1/bg.png', 'profile_background_image_url_https': 'https://abs.twimg.com/images/themes/theme1/bg.png', 'profile_background_tile': True, 'profile_image_url': 'http://pbs.twimg.com/profile_images/852999936140468224/56cvufa__normal.jpg', 'profile_image_url_https': 'https://pbs.twimg.com/profile_images/852999936140468224/56cvufa__normal.jpg', 'profile_banner_url': 'https://pbs.twimg.com/profile_banners/1933042237/1492206363', 'profile_link_color': '0084B4', 'profile_sidebar_border_color': '000000', 'profile_sidebar_fill_color': 'DDEEF6', 'profile_text_color': '333333', 'profile_use_background_image': True, 'has_extended_profile': False, 'default_profile': False, 'default_profile_image': False, 'following': False, 'follow_request_sent': False, 'notifications': False, 'translator_type': 'none'}), (14645160, {'id': 14645160, 'id_str': '14645160', 'name': 'Brian Brushwood', 'screen_name': 'shwood', 'location': 'Austin, TX', 'description': 'Host of Scam School for Discovery & Hacking The System for NatGeo. 2 Billboard #1 comedy albums ~New Show: The Modern Rogue~ https://t.co/rdb72QlXSw', 'url': 'http://t.co/8V78mxE476', 'entities': {'url': {'urls': [{'url': 'http://t.co/8V78mxE476', 'expanded_url': 'http://www.shwood.com', 'display_url': 'shwood.com', 'indices': [0, 22]}]}, 'description': {'urls': [{'url': 'https://t.co/rdb72QlXSw', 'expanded_url': 'http://youtube.com/modernrogue', 'display_url': 'youtube.com/modernrogue', 'indices': [125, 148]}]}}, 'protected': False, 'followers_count': 1819641, 'friends_count': 1049457, 'listed_count': 9018, 'created_at': 'Sun May 04 05:42:34 +0000 2008', 'favourites_count': 3980, 'utc_offset': None, 'time_zone': None, 'geo_enabled': True, 'verified': True, 'statuses_count': 89161, 'lang': 'en', 'status': {'created_at': 'Sun Feb 17 02:21:25 +0000 2019', 'id': 1096957761408167937, 'id_str': '1096957761408167937', 'text': '@enriquillo2 done!', 'truncated': False, 'entities': {'hashtags': [], 'symbols': [], 'user_mentions': [{'screen_name': 'enriquillo2', 'name': 'Enriquillo Amiama Artist', 'id': 60651759, 'id_str': '60651759', 'indices': [0, 12]}], 'urls': []}, 'source': '<a href=\"https://about.twitter.com/products/tweetdeck\" rel=\"nofollow\">TweetDeck</a>', 'in_reply_to_status_id': 1096948258000261122, 'in_reply_to_status_id_str': '1096948258000261122', 'in_reply_to_user_id': 60651759, 'in_reply_to_user_id_str': '60651759', 'in_reply_to_screen_name': 'enriquillo2', 'geo': None, 'coordinates': None, 'place': None, 'contributors': None, 'is_quote_status': False, 'retweet_count': 1, 'favorite_count': 9, 'favorited': False, 'retweeted': False, 'lang': 'en'}, 'contributors_enabled': False, 'is_translator': False, 'is_translation_enabled': False, 'profile_background_color': '9AE4E8', 'profile_background_image_url': 'http://abs.twimg.com/images/themes/theme1/bg.png', 'profile_background_image_url_https': 'https://abs.twimg.com/images/themes/theme1/bg.png', 'profile_background_tile': True, 'profile_image_url': 'http://pbs.twimg.com/profile_images/577575716406996992/FQdDFPrR_normal.jpeg', 'profile_image_url_https': 'https://pbs.twimg.com/profile_images/577575716406996992/FQdDFPrR_normal.jpeg', 'profile_banner_url': 'https://pbs.twimg.com/profile_banners/14645160/1431498523', 'profile_link_color': '0000FF', 'profile_sidebar_border_color': 'FFFFFF', 'profile_sidebar_fill_color': 'E0FF92', 'profile_text_color': '000000', 'profile_use_background_image': True, 'has_extended_profile': False, 'default_profile': False, 'default_profile_image': False, 'following': False, 'follow_request_sent': False, 'notifications': False, 'translator_type': 'none'}), (76966092, {'id': 76966092, 'id_str': '76966092', 'name': 'John Rampton', 'screen_name': 'johnrampton', 'location': 'Palo Alto, CA', 'description': 'Entrepreneur and connector. Founder of @Due & @Calendar. I blog about my successes and epic failures for @Entrepreneur and @TechCrunch #fintech #productivity', 'url': 'https://t.co/3kezHJuvuN', 'entities': {'url': {'urls': [{'url': 'https://t.co/3kezHJuvuN', 'expanded_url': 'https://www.linkedin.com/in/johnrampton/', 'display_url': 'linkedin.com/in/johnrampton/', 'indices': [0, 23]}]}, 'description': {'urls': []}}, 'protected': False, 'followers_count': 1451427, 'friends_count': 634842, 'listed_count': 8040, 'created_at': 'Thu Sep 24 15:31:23 +0000 2009', 'favourites_count': 15789, 'utc_offset': None, 'time_zone': None, 'geo_enabled': True, 'verified': True, 'statuses_count': 26191, 'lang': 'en', 'status': {'created_at': 'Sun Feb 17 03:10:01 +0000 2019', 'id': 1096969991633731584, 'id_str': '1096969991633731584', 'text': 'https://t.co/AIfPVMoIFU', 'truncated': False, 'entities': {'hashtags': [], 'symbols': [], 'user_mentions': [], 'urls': [], 'media': [{'id': 1096969990123778048, 'id_str': '1096969990123778048', 'indices': [0, 23], 'media_url': 'http://pbs.twimg.com/media/Dzk4ZN6XcAAsMuT.jpg', 'media_url_https': 'https://pbs.twimg.com/media/Dzk4ZN6XcAAsMuT.jpg', 'url': 'https://t.co/AIfPVMoIFU', 'display_url': 'pic.twitter.com/AIfPVMoIFU', 'expanded_url': 'https://twitter.com/johnrampton/status/1096969991633731584/photo/1', 'type': 'photo', 'sizes': {'thumb': {'w': 150, 'h': 150, 'resize': 'crop'}, 'small': {'w': 210, 'h': 240, 'resize': 'fit'}, 'large': {'w': 210, 'h': 240, 'resize': 'fit'}, 'medium': {'w': 210, 'h': 240, 'resize': 'fit'}}}]}, 'extended_entities': {'media': [{'id': 1096969990123778048, 'id_str': '1096969990123778048', 'indices': [0, 23], 'media_url': 'http://pbs.twimg.com/media/Dzk4ZN6XcAAsMuT.jpg', 'media_url_https': 'https://pbs.twimg.com/media/Dzk4ZN6XcAAsMuT.jpg', 'url': 'https://t.co/AIfPVMoIFU', 'display_url': 'pic.twitter.com/AIfPVMoIFU', 'expanded_url': 'https://twitter.com/johnrampton/status/1096969991633731584/photo/1', 'type': 'photo', 'sizes': {'thumb': {'w': 150, 'h': 150, 'resize': 'crop'}, 'small': {'w': 210, 'h': 240, 'resize': 'fit'}, 'large': {'w': 210, 'h': 240, 'resize': 'fit'}, 'medium': {'w': 210, 'h': 240, 'resize': 'fit'}}}]}, 'source': '<a href=\"https://buffer.com\" rel=\"nofollow\">Buffer</a>', 'in_reply_to_status_id': None, 'in_reply_to_status_id_str': None, 'in_reply_to_user_id': None, 'in_reply_to_user_id_str': None, 'in_reply_to_screen_name': None, 'geo': None, 'coordinates': None, 'place': None, 'contributors': None, 'is_quote_status': False, 'retweet_count': 13, 'favorite_count': 41, 'favorited': False, 'retweeted': False, 'possibly_sensitive': False, 'lang': 'und'}, 'contributors_enabled': False, 'is_translator': False, 'is_translation_enabled': False, 'profile_background_color': 'C6E2EE', 'profile_background_image_url': 'http://abs.twimg.com/images/themes/theme2/bg.gif', 'profile_background_image_url_https': 'https://abs.twimg.com/images/themes/theme2/bg.gif', 'profile_background_tile': False, 'profile_image_url': 'http://pbs.twimg.com/profile_images/547842630990581761/L8Z0jGts_normal.jpeg', 'profile_image_url_https': 'https://pbs.twimg.com/profile_images/547842630990581761/L8Z0jGts_normal.jpeg', 'profile_link_color': '1F98C7', 'profile_sidebar_border_color': 'FFFFFF', 'profile_sidebar_fill_color': 'DAECF4', 'profile_text_color': '663B12', 'profile_use_background_image': True, 'has_extended_profile': False, 'default_profile': False, 'default_profile_image': False, 'following': False, 'follow_request_sent': False, 'notifications': False, 'translator_type': 'none'}), (5514192, {'id': 5514192, 'id_str': '5514192', 'name': 'Ken Rutkowski', 'screen_name': 'kenradio', 'location': 'Los Angeles, CA', 'description': 'Co-Founder of METal International & Syndicated Radio Talk Show Host\\n\\nAdd yourself to my FB page - https://t.co/kFqj4GmzJ5', 'url': 'https://t.co/kFqj4GEaAD', 'entities': {'url': {'urls': [{'url': 'https://t.co/kFqj4GEaAD', 'expanded_url': 'https://business.facebook.com/KenRadio', 'display_url': 'business.facebook.com/KenRadio', 'indices': [0, 23]}]}, 'description': {'urls': [{'url': 'https://t.co/kFqj4GmzJ5', 'expanded_url': 'https://business.facebook.com/KenRadio', 'display_url': 'business.facebook.com/KenRadio', 'indices': [98, 121]}]}}, 'protected': False, 'followers_count': 1029697, 'friends_count': 831579, 'listed_count': 3660, 'created_at': 'Thu Apr 26 02:07:14 +0000 2007', 'favourites_count': 469, 'utc_offset': None, 'time_zone': None, 'geo_enabled': True, 'verified': True, 'statuses_count': 18854, 'lang': 'en', 'status': {'created_at': 'Sun Feb 17 00:15:03 +0000 2019', 'id': 1096925960472010752, 'id_str': '1096925960472010752', 'text': \"I don't know where in China this restaurant is but it looks fun with lots of room for failure https://t.co/jbO8EvnbbJ\", 'truncated': False, 'entities': {'hashtags': [], 'symbols': [], 'user_mentions': [], 'urls': [], 'media': [{'id': 1096924781130199040, 'id_str': '1096924781130199040', 'indices': [94, 117], 'media_url': 'http://pbs.twimg.com/ext_tw_video_thumb/1096924781130199040/pu/img/yiiqa1wW6_-xkkkI.jpg', 'media_url_https': 'https://pbs.twimg.com/ext_tw_video_thumb/1096924781130199040/pu/img/yiiqa1wW6_-xkkkI.jpg', 'url': 'https://t.co/jbO8EvnbbJ', 'display_url': 'pic.twitter.com/jbO8EvnbbJ', 'expanded_url': 'https://twitter.com/kenradio/status/1096925960472010752/video/1', 'type': 'photo', 'sizes': {'thumb': {'w': 150, 'h': 150, 'resize': 'crop'}, 'medium': {'w': 224, 'h': 400, 'resize': 'fit'}, 'large': {'w': 224, 'h': 400, 'resize': 'fit'}, 'small': {'w': 224, 'h': 400, 'resize': 'fit'}}}]}, 'extended_entities': {'media': [{'id': 1096924781130199040, 'id_str': '1096924781130199040', 'indices': [94, 117], 'media_url': 'http://pbs.twimg.com/ext_tw_video_thumb/1096924781130199040/pu/img/yiiqa1wW6_-xkkkI.jpg', 'media_url_https': 'https://pbs.twimg.com/ext_tw_video_thumb/1096924781130199040/pu/img/yiiqa1wW6_-xkkkI.jpg', 'url': 'https://t.co/jbO8EvnbbJ', 'display_url': 'pic.twitter.com/jbO8EvnbbJ', 'expanded_url': 'https://twitter.com/kenradio/status/1096925960472010752/video/1', 'type': 'video', 'sizes': {'thumb': {'w': 150, 'h': 150, 'resize': 'crop'}, 'medium': {'w': 224, 'h': 400, 'resize': 'fit'}, 'large': {'w': 224, 'h': 400, 'resize': 'fit'}, 'small': {'w': 224, 'h': 400, 'resize': 'fit'}}, 'video_info': {'aspect_ratio': [14, 25], 'duration_millis': 31134, 'variants': [{'content_type': 'application/x-mpegURL', 'url': 'https://video.twimg.com/ext_tw_video/1096924781130199040/pu/pl/sKqL8M3PsYmSPmus.m3u8?tag=6'}, {'bitrate': 632000, 'content_type': 'video/mp4', 'url': 'https://video.twimg.com/ext_tw_video/1096924781130199040/pu/vid/224x400/f-3KCIq00hCF5eT4.mp4?tag=6'}]}, 'additional_media_info': {'monetizable': False}}]}, 'source': '<a href=\"https://www.hootsuite.com\" rel=\"nofollow\">Hootsuite Inc.</a>', 'in_reply_to_status_id': None, 'in_reply_to_status_id_str': None, 'in_reply_to_user_id': None, 'in_reply_to_user_id_str': None, 'in_reply_to_screen_name': None, 'geo': None, 'coordinates': None, 'place': None, 'contributors': None, 'is_quote_status': False, 'retweet_count': 117, 'favorite_count': 430, 'favorited': False, 'retweeted': False, 'possibly_sensitive': False, 'lang': 'en'}, 'contributors_enabled': False, 'is_translator': False, 'is_translation_enabled': False, 'profile_background_color': '022330', 'profile_background_image_url': 'http://abs.twimg.com/images/themes/theme4/bg.gif', 'profile_background_image_url_https': 'https://abs.twimg.com/images/themes/theme4/bg.gif', 'profile_background_tile': False, 'profile_image_url': 'http://pbs.twimg.com/profile_images/845318528085348352/w1KoXHom_normal.jpg', 'profile_image_url_https': 'https://pbs.twimg.com/profile_images/845318528085348352/w1KoXHom_normal.jpg', 'profile_banner_url': 'https://pbs.twimg.com/profile_banners/5514192/1526437283', 'profile_link_color': '0084B4', 'profile_sidebar_border_color': 'A8C7F7', 'profile_sidebar_fill_color': 'C0DFEC', 'profile_text_color': '333333', 'profile_use_background_image': True, 'has_extended_profile': True, 'default_profile': False, 'default_profile_image': False, 'following': False, 'follow_request_sent': False, 'notifications': False, 'translator_type': 'none'})]\n"
     ]
    }
   ],
   "source": [
    "friends_list = list(reciprocal_friends)\n",
    "ids = popular_users(friends_list, 5)\n",
    "print(ids)"
   ]
  },
  {
   "cell_type": "code",
   "execution_count": 104,
   "metadata": {},
   "outputs": [
    {
     "name": "stdout",
     "output_type": "stream",
     "text": [
      "hh\n"
     ]
    }
   ],
   "source": [
    "\n",
    "level = 1\n",
    "max_level = 3\n",
    "while len(ids) < 100: \n",
    "    level += 1\n",
    "    (queue, next_queue) = (next_queue, []) \n",
    "    for id in queue:\n",
    "        followers_response = make_twitter_request(twitter_api.followers.ids, user_id=id, count=2)\n",
    "        if followers_response: next_queue += followers_response[\"ids\"] \n",
    "    ids += next_queue\n",
    "\n",
    "print(len(ids), ids)"
   ]
  },
  {
   "cell_type": "code",
   "execution_count": null,
   "metadata": {},
   "outputs": [],
   "source": [
    "def crawl_followers_friends():\n",
    "    pass"
   ]
  }
 ],
 "metadata": {
  "kernelspec": {
   "display_name": "Python 3",
   "language": "python",
   "name": "python3"
  },
  "language_info": {
   "codemirror_mode": {
    "name": "ipython",
    "version": 3
   },
   "file_extension": ".py",
   "mimetype": "text/x-python",
   "name": "python",
   "nbconvert_exporter": "python",
   "pygments_lexer": "ipython3",
   "version": "3.6.5"
  }
 },
 "nbformat": 4,
 "nbformat_minor": 2
}
